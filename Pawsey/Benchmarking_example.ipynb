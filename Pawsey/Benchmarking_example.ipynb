{
 "cells": [
  {
   "cell_type": "code",
   "execution_count": 1,
   "id": "38d1686a-2338-4f2e-9942-180b7c615e14",
   "metadata": {},
   "outputs": [],
   "source": [
    "%matplotlib widget\n",
    "#%matplotlib inline\n",
    "\n",
    "import os, sys\n",
    "\n",
    "dir_path = os.path.abspath(\"\")\n",
    "sys.path.append(dir_path)\n",
    "from workshop_utils import *"
   ]
  },
  {
   "cell_type": "markdown",
   "id": "615b801b-66f9-4a49-a853-e525a0bb4c46",
   "metadata": {},
   "source": [
    "# Quantum Computing Simulation \n",
    "\n",
    "This notebook walks you through running a quantum circuit using several different common quantum computing frameworks: *PennyLane*, *Qiskit* and *CUDA-Q*. There are several others (e.g., *Cirq*, *Braket*), but we will focus on these three as they are popular and informative. These frameworks enable the noisy simulation of quantum circuits, though each has their own strengths and weaknesses. In this example, we will focus on the classical computational aspect of quantum computing simulation and how well different frameworks run and scale. \n",
    "\n",
    "We will walk you through the simulation of a quantum algorithm and provide Python and SLURM submission scripts to simulate it on HPC infrastructure without requiring running a Jupyter server on the HPC infrastructure. \n",
    "\n"
   ]
  },
  {
   "cell_type": "markdown",
   "id": "b37354cf",
   "metadata": {},
   "source": [
    "## The Computational Challenge\n",
    "\n",
    "There is a real challenge in simulating quantum circuits. They require sufficient memory to store the possible combinations of qubit states and must perform many matrix-vector multiplications. A state-vector representation of a quantum circuit has a memory requirement that scales as $\\mathcal{O}(2^{n})$, where $n$ is the number of qubits. This challenge is even more significant for a full density-matrix representation, which is  often used as an approach to simulate a noisy quantum computing device, as it scales as $\\mathcal{O}(2^{2n})$. \n",
    "\n",
    "Consider running a full state-vector simulation with $n$-qubits and $m$ gates. Just the state vector requires $2\\times2^{n}$ floats (since we need to store complex numbers). To store in full, $m$ arbitrary unitaries for a $n$-qubit system requries $2m\\times2^{2n}$ floats and each gate is a matrix-vector operation, giving $\\approx m\\times2^{4n}$ floating point operations (for a nice discussion, see [https://arxiv.org/pdf/2302.08880]).\n",
    "\n",
    "To explore the cost of full state simulations, explore the table below ([https://arxiv.org/pdf/2302.08880]).\n",
    "\n",
    "#### Table I. Comparison between different simulation methods\n",
    "\n",
    "| Methods         | Memory          | Run time          | Approx. or exact | Noiseless or noisy | Application regime |\n",
    "|---------------|----------------|-------------------|------------------|--------------------|-------------------|\n",
    "| **Statevector** | Worst $\\mathcal{O}(2^N)$   | Worst $\\mathcal{O}(m2^N)$    | Exact            | Noiseless#        | General, good for small circuits* |\n",
    "| **Density matrix** | Worst $\\mathcal{O}(2^{2N})$ | Worst $\\mathcal{O}(m2^{2N})$    | Exact            | Both|  General, good for small circuits+ |\n",
    "| **MPS state/MPO** | $\\mathcal{O}(N\\chi^2)$         | $\\mathcal{O}(N\\chi^6)$             | Approx.          | Noisy | General, good for shallow circuits |\n",
    "| **Tensor network** | On demand     | $\\mathcal{O}(e^W)$            | Both             | Both               | General, good for shallow circuits |\n",
    "| **Stabilizer** | $\\mathcal{O}(e^{mT})$        | $\\mathcal{O}(e^{mT})$          | Approx.          | Both               | Circuits dominated with Clifford gates, particularly in QEC |\n",
    "\n",
    "#### Notes:\n",
    "\\#. **State-vector simulators** can also be used to simulate noisy circuits to get an approximate result with the Monte Carlo method.  \n",
    "\\*. Circuits with N > 32 with the state-vector simulator should generally run on an HPC server.  \n",
    "\\+. Circuits with N > 16 with the density matrix simulator should generally run on an HPC server.       \n",
    "\n",
    "Consequently, it becomes necessary to accelerate computation. However, not all quantum circuits demand a full state-vector simulation, and alternative methods—such as tensor network contractions, Stabilizer simulation and density matrix simulation —can significantly reduce computational complexity. In this work, we focus exclusively on performing full state-vector simulations across different frameworks and measuring the resulting time to solution to have a high-level overview. "
   ]
  },
  {
   "cell_type": "code",
   "execution_count": 8,
   "id": "29351093-37c7-4ea4-b84f-afa98411956c",
   "metadata": {},
   "outputs": [
    {
     "data": {
      "application/vnd.jupyter.widget-view+json": {
       "model_id": "c77fa2014ad84448b5b86fcd72e20202",
       "version_major": 2,
       "version_minor": 0
      },
      "text/plain": [
       "interactive(children=(IntSlider(value=10, description='num_qubits', max=128, min=1), IntSlider(value=100, desc…"
      ]
     },
     "metadata": {},
     "output_type": "display_data"
    },
    {
     "data": {
      "text/plain": [
       "<function workshop_utils.PlotSystemRequirements(num_qubits: int = 2, num_gates: int = 1, num_measurements: int = 1, returnfig: bool = False)>"
      ]
     },
     "execution_count": 8,
     "metadata": {},
     "output_type": "execute_result"
    }
   ],
   "source": [
    "interact(PlotSystemRequirements, \n",
    "         num_qubits = widgets.IntSlider(min=1, max=128, step=1, value=10), \n",
    "         num_gates = widgets.IntSlider(min=1, max=10000, step=1, value=100),\n",
    "         num_measurements = widgets.IntSlider(min=1, max=10000, step=1, value=100),\n",
    "        )"
   ]
  },
  {
   "cell_type": "markdown",
   "id": "26911849-2f64-40db-968c-51a32ee7b61b",
   "metadata": {},
   "source": [
    "## Quantum Computing Frameworks\n",
    "\n",
    "A wide array of quantum computing frameworks is currently available, each with its own advantages, limitations, and user communities. In this workshop, we highlight three commonly utilized frameworks:\n",
    "\n",
    "### PennyLane\n",
    "[PennyLane](https://pennylane.ai/) is an open-source Python library for quantum programming. Originally developed by researchers, it offers extensive functionality tailored to machine learning applications, along with support for multi-core and GPU acceleration.\n",
    "\n",
    "### Qiskit\n",
    "[Qiskit](https://www.ibm.com/quantum/qiskit) is an open-source quantum computing framework widely recognized for its robust toolset for constructing and optimizing quantum circuits. It includes Qiskit Aer, a high-performance simulator featuring realistic noise models, with support for OpenMP, MPI, and GPU-based acceleration.\n",
    "\n",
    "### CUDA-Q\n",
    "[CUDA-Q](https://developer.nvidia.com/cuda-q) is an open-source framework, although it relies on certain closed-source libraries. It facilitates hybrid application development in quantum computing by providing a unified programming model that coordinates CPUs, GPUs, and QPUs. CUDA-Q supports both Python and C++, offering multiple backends optimized for multi-core or GPU acceleration.\n"
   ]
  },
  {
   "cell_type": "markdown",
   "id": "326ad880-953f-4b3b-a38a-c28f733f755c",
   "metadata": {},
   "source": [
    "## Grover's Algorithm for Quantum Search\n",
    "\n",
    "First proposed by Lov Grover in 1996 [Grover, L. K. (1996, July). A fast quantum mechanical algorithm for database search. In Proceedings of the twenty-eighth annual ACM symposium on Theory of computing (pp. 212-219).], Grover's algorithm is a canonical example of quantum speedup. It addresses the problem of unstructured search, identifying with high probability the unique input to a black-box function that produces a specified output. By reducing the number of required function evaluations to $\\mathcal{O}(\\sqrt{N})$, where $N$ represents the size of the function's domain, Grover’s algorithm offers a quadratic advantage over the classical approach, which necessitates $\\mathcal{O}(\\sqrt{N})$ queries. Grover's algorithm revolutionized quantum computing by demonstrating a quadratic speedup for unstructured search problems, showcasing the power of quantum amplitude amplification."
   ]
  },
  {
   "cell_type": "markdown",
   "id": "8e5f7bca",
   "metadata": {},
   "source": [
    "### Manually Finding a Target\n",
    "\n",
    "To illustrate this concept, consider a database containing various entries, with no prior information to guide your search. The only option is to check entries individually to determine if one matches your target. This scenario can be likened to a game of “Where’s the ball?”—you systematically check possible locations until you find the correct one.\n",
    "\n",
    "Below, you will see a 4×4 grid. Click on the circles to discover the hidden target. Try this process a few times, then restart the cell to repeat the exercise."
   ]
  },
  {
   "cell_type": "code",
   "execution_count": null,
   "id": "014d3735-1716-4c5f-bb2f-4e2bde020c9a",
   "metadata": {},
   "outputs": [],
   "source": [
    "# now this is a manual search of a grid  \n",
    "fig = GroversGrid(4,4)\n",
    "fig "
   ]
  },
  {
   "cell_type": "markdown",
   "id": "8e4d86d2-a520-420e-aeb0-d1f9a96d1215",
   "metadata": {},
   "source": [
    "### Quantum approach\n",
    "\n",
    "Compared with the manually finding a target, in this quantum approach, the probability of projecting onto the target state is enhanced by applying an appropriately chosen phase shift. By adjusting the slider, one can visualize how varying the phase difference between the target state and all other states affects the system’s evolution. Systematic exploration reveals that, at an optimal phase setting, the probability (and corresponding visual representation) of the target state becomes significantly larger than that of the other states. Notably, determining the maximal probability of success requires identifying not only the ideal phase shift but also the optimal measurement time, as both parameters jointly influence the outcome.\n"
   ]
  },
  {
   "cell_type": "code",
   "execution_count": null,
   "id": "08e8636a-f70b-4df6-b4d3-b419d098bcfe",
   "metadata": {},
   "outputs": [],
   "source": [
    "fig = GroverSearch(4, 4)\n",
    "fig "
   ]
  },
  {
   "cell_type": "markdown",
   "id": "c34dad07-346a-4268-beb7-732b7c6d965b",
   "metadata": {},
   "source": [
    "## So how do we achieve this? \n",
    "### Step 1 Uniform Superposition\n",
    "The first step in Grover's search is generating a *uniform superposition* (i.e. a quantum state in which each computational basis state appears with equal amplitude in magnitude, though possibly differing in phase, ensuring that measurement probabilities remain uniform). By convention, all every qubit is initialised in the $\\ket{0}$ state, so a uniform superposition is obtained by applying a *Hadamard* ($H$) gates to each qubit. A $H$ gate acts on the $\\ket{0}$ state like:\n",
    "\n",
    "$$\n",
    "H\\ket{0} = \\frac{\\ket{0} + \\ket{1}}{\\sqrt{2}}.\n",
    "$$\n",
    "\n",
    "In terms of circuits, a 3-qubit circuit that has all the qubits in superposition will look like:\n",
    "\n",
    "![3 Hadamard](figures/hadamard_example.png \"3 Qubit Hadamard circuit\")\n",
    "\n",
    "#### Frameworks \n",
    "\n",
    "Let's start by first going through some syntax. In most frameworks, you define a circuit that will run Grover's search. For completeness, we show the API for all three frameworks here explicitly. In later steps, for brevity, we'll use functions defined in `workshop_utils.py`. \n",
    "\n",
    "* *Pennylane*:\n",
    "    ```python\n",
    "    import pennylane as qml\n",
    "    # Define a quantum device (real or simulator)\n",
    "    dev = qml.device(\"default.qubit\", wires=n)\n",
    "    # Define a quantum function (QNode) that modifies the quantum circuit on device `dev`\n",
    "    @qml.qnode(dev)\n",
    "    def circuit(n : int):\n",
    "        # Create n wires for n qubits\n",
    "        wires = list(range(n))\n",
    "        # Place a H gate on each wire\n",
    "        for w in wires:\n",
    "            qml.Hadamard(wires=w)\n",
    "    ```\n",
    "* *Qiskit*:\n",
    "  ```python\n",
    "  from qiskit import QuantumCircuit\n",
    "  def circuit(n : int) -> QuantumCircuit:\n",
    "      # Initialise a quantum circuit with n qubits\n",
    "      qc = QuantumCircuit(n)\n",
    "      # Apply a H gate to each qubit\n",
    "      for i in range(n):\n",
    "          qc.h(i)\n",
    "      # Return the modified circuit\n",
    "      return qc\n",
    "  ```\n",
    "\n",
    "* *CUDA-Q*:\n",
    "  ```c++\n",
    "  // C++ API\n",
    "  #include <cudaq.h>\n",
    "  #include <cudaq/spin_op.h>\n",
    "  #include <cudaq/algorithms/draw.h>\n",
    "  // Define a quantum kernel (function)\n",
    "  struct kernel\n",
    "  {\n",
    "      auto operator()(int n) __qpu__\n",
    "      {\n",
    "          // Create a quantum register (vector of qubits) with n qubits\n",
    "          auto wires = cudaq::qvector(n);\n",
    "          // Apply a Hadmard gate to each qubit\n",
    "          cudaq::h(wires);\n",
    "      }\n",
    "  }\n",
    "  ```\n",
    "  ```python\n",
    "  # Python API\n",
    "  import cudaq\n",
    "  # Define a quantum kernel (function)\n",
    "  @cudaq.kernel\n",
    "  def circuit(n : int):\n",
    "      # Create a quantum register (vector of qubits) with n qubits\n",
    "      qvector = cudaq.qvector(n)\n",
    "      # Apply a Hadmard gate to each qubit\n",
    "      h(qvector)\n",
    "  ```"
   ]
  },
  {
   "cell_type": "markdown",
   "id": "d663be87-52c5-41d4-9984-e1c8ddd589a0",
   "metadata": {},
   "source": [
    "### Step 2 Amplification \n",
    "\n",
    "The next step is to apply rounds of amplification to increase the probability of finding the desired target state $\\ket{\\omega}$. This involves formulating a unitary operator that flips the phase of the target state while keeping all other states untouched: \n",
    "\n",
    "$$\n",
    "U_\\omega \\ket{x} =\n",
    "\\begin{cases} \n",
    "-\\ket{x}, & \\text{if } x = \\omega, \\\\\n",
    "\\,\\,\\,\\,\\,\\ket{x}, & \\text{if } x \\neq \\omega.\n",
    "\\end{cases}\n",
    "$$\n",
    "Which is explicitly given by: \n",
    "$$\n",
    "U_\\omega=\\mathbb{I}−2\\ket{\\omega}\\bra{\\omega}.\n",
    "$$\n",
    "\n",
    "\n",
    "Since this transformation only modifies the phase of the target state, it does not affect the measurement probabilities. However, in the next step, we amplify the phase-marked target state using the Grover diffusion operator, which effectively performs an inversion about the mean by reflecting the state across the uniform superposition $\\ket{s}$. This step enhances the probability amplitude of the target state, increasing its likelihood of being measured:\n",
    "\n",
    "$$\n",
    "U_d=2\\ket{s}\\bra{s}-\\mathbb{I} .\n",
    "$$\n",
    "\n",
    "The combination of $U_\\omega$ with $U_d$ rotates the state $\\ket{s}$ by an angle of $\\theta=2\\arcsin\\bigl(\\tfrac{1}{\\sqrt{N}}\\bigr)$. \n",
    "\n",
    "The resulting circuit for two rounds of amplification using the PennyLane API for the two unitaries would look like \n",
    "\n",
    "![Grovers](figures/grovers_2_amplification.png \"3 Qubit Grover's circuit with 2 amplification rounds\")\n"
   ]
  },
  {
   "cell_type": "markdown",
   "id": "8ea12e2d",
   "metadata": {},
   "source": [
    "#### Frameworks\n",
    "\n",
    "* *PennyLane*: there is the `FlipSign` function for invoking $U_\\omega$ and `GroverOperator` for $U_d$. ,\n",
    "* *Qiskit*: construct the Oracle operator that marks the state and then pass this to the `GroverOperator` fucntion which incorporates both unitaries.\n",
    "* *CUDA-Q*: both unitaries are done with explicit application of the appropriate gates, such as X-gates, Z-gates, Hadamards, and control gates, i.e.:\n",
    "  \n",
    "  ```c++\n",
    "  cudaq::h(qvector);\n",
    "  cudaq::x(qvector);\n",
    "  cudaq::control(ApplyZ{}, qvector.front(n - 1), qvector.back());\n",
    "  ```"
   ]
  },
  {
   "cell_type": "markdown",
   "id": "8d227f45-0b1b-43a8-85ad-e0c2b871eec3",
   "metadata": {},
   "source": [
    "## Let's Simulate!\n",
    "\n",
    "Let's try running Grovers in *PennyLane*, *Qiskit* and *CUDA-Q*."
   ]
  },
  {
   "cell_type": "code",
   "execution_count": 2,
   "id": "8c09da00-e4ca-4591-a5e2-b861fecfdd20",
   "metadata": {},
   "outputs": [
    {
     "data": {
      "application/vnd.jupyter.widget-view+json": {
       "model_id": "7fd2ebf4c5b14f4db41b78d8d204c252",
       "version_major": 2,
       "version_minor": 0
      },
      "text/plain": [
       "interactive(children=(Text(value='default.qubit', description='device'), IntSlider(value=10, description='num_…"
      ]
     },
     "metadata": {},
     "output_type": "display_data"
    }
   ],
   "source": [
    "w = interactive(GroversPennyLane,\n",
    "         num_qubits = widgets.IntSlider(min=2, max=20, step=1, value=10), \n",
    "         num_amplification = widgets.IntSlider(min=1, max=10, step=1, value=1),\n",
    "         num_shots = widgets.IntSlider(min=100, max=1000, step=1, value=100),\n",
    "         num_iterations = widgets.IntSlider(min=1, max=100, step=1, value=1),\n",
    "         targets = fixed([]), \n",
    "         verbose = fixed(True),\n",
    "         get_return = fixed(False),\n",
    "         report_system_requirements=fixed(False),\n",
    "        )\n",
    "display(w)"
   ]
  },
  {
   "cell_type": "code",
   "execution_count": 3,
   "id": "050bd9b4-b53a-40b4-b457-9dd6bfc63427",
   "metadata": {},
   "outputs": [
    {
     "data": {
      "application/vnd.jupyter.widget-view+json": {
       "model_id": "c6cb1f0d0e3b4970847ba98e3fcee020",
       "version_major": 2,
       "version_minor": 0
      },
      "text/plain": [
       "interactive(children=(Text(value='CPU', description='device'), IntSlider(value=10, description='num_qubits', m…"
      ]
     },
     "metadata": {},
     "output_type": "display_data"
    }
   ],
   "source": [
    "w = interactive(GroversQiskit,\n",
    "         num_qubits = widgets.IntSlider(min=2, max=20, step=1, value=10), \n",
    "         num_amplification = widgets.IntSlider(min=1, max=10, step=1, value=1),\n",
    "         num_shots = widgets.IntSlider(min=100, max=1000, step=1, value=100),\n",
    "         num_iterations = widgets.IntSlider(min=1, max=100, step=1, value=1),\n",
    "         targets = fixed([]), \n",
    "         verbose = fixed(True),\n",
    "         get_return = fixed(False),\n",
    "         report_system_requirements=fixed(False),\n",
    "        )\n",
    "display(w)"
   ]
  },
  {
   "cell_type": "code",
   "execution_count": null,
   "id": "1587d6bd-4eb3-407a-9afb-7b00a819bcf7",
   "metadata": {},
   "outputs": [],
   "source": [
    "w = interactive(GroversCUDAQ,\n",
    "         num_qubits = widgets.IntSlider(min=2, max=20, step=1, value=10), \n",
    "         num_amplification = widgets.IntSlider(min=1, max=10, step=1, value=1),\n",
    "         num_shots = widgets.IntSlider(min=100, max=1000, step=1, value=100),\n",
    "         num_iterations = widgets.IntSlider(min=1, max=100, step=1, value=1),\n",
    "         targets = fixed([]), \n",
    "         verbose = fixed(True),\n",
    "         get_return = fixed(False),\n",
    "         report_system_requirements=fixed(False),\n",
    "        )\n",
    "display(w)\n",
    "# [circuit, time, err, tottime] = GroversCUDAQ(device = 'nvidia', num_qubits=13)"
   ]
  },
  {
   "cell_type": "markdown",
   "id": "c427b96e-8b71-4bb0-b951-a732d20e5371",
   "metadata": {},
   "source": [
    "## Scaling\n",
    "\n",
    "We can explore how well codes scale and the variability. "
   ]
  },
  {
   "cell_type": "code",
   "execution_count": null,
   "id": "d03e7b3b-4317-4c38-8d49-ce3f16d51616",
   "metadata": {},
   "outputs": [],
   "source": [
    "# lets get the data \n",
    "maxnqubits=10\n",
    "qubits = np.arange(3, maxnqubits+1, dtype=np.int32)\n",
    "\n",
    "times = {\n",
    "    'PennyLane': {\n",
    "        'default.qubit': np.zeros([3,qubits.size]),\n",
    "    },\n",
    "    'Qiskit': {\n",
    "        'CPU': np.zeros([3,qubits.size]),\n",
    "    },\n",
    "    'CUDAQ': {\n",
    "        'CPU': np.zeros([3,qubits.size]),\n",
    "        'GPU': np.zeros([3,qubits.size]),\n",
    "    },\n",
    "    'Ideal': {\n",
    "        'FLOPS': np.zeros([3,qubits.size]),\n",
    "    },\n",
    "}\n",
    "\n",
    "funcs = {\n",
    "    'PennyLane': GroversPennyLane,\n",
    "    'Qiskit': GroversQiskit,\n",
    "    'CUDAQ': GroversCUDAQ,\n",
    "}\n",
    "\n",
    "for api in funcs.keys():\n",
    "    for device in times[api].keys():\n",
    "        for i in range(qubits.size):\n",
    "            # for skipping CUDAQ on systems lacking CUDAQ \n",
    "            if api == 'CUDAQ': continue\n",
    "            [circuit, times[api][device][0][i], times[api][device][1][i], times[api][device][2][i]] = \\\n",
    "            funcs[api](device = device, num_qubits = int(qubits[i]), num_amplification = 10, verbose = False)\n",
    "\n",
    "times['Ideal']['FLOPS'][0] = np.exp(flopcalc(qubits, qubits + 10*(qubits*4 + (qubits-1)*2), 1))\n",
    "print(times['Ideal']['FLOPS'][0])\n"
   ]
  },
  {
   "cell_type": "code",
   "execution_count": null,
   "id": "6e2ff45b-f6ef-4345-8f1e-070b819f7ce2",
   "metadata": {},
   "outputs": [],
   "source": [
    "fig, (ax1, ax2) = plt.subplots(ncols = 2, nrows = 1, figsize=(10, 5))\n",
    "# standard error bars\n",
    "for api in funcs.keys():\n",
    "    for device in times[api].keys():\n",
    "        ax1.errorbar(qubits, times[api][device][0], yerr=times[api][device][1], \n",
    "                    linestyle='solid', \n",
    "                    label = f'{api}:{device}',\n",
    "                    marker = 'o',\n",
    "                    capsize= 4,\n",
    "                   )\n",
    "# standard error bars\n",
    "for api in funcs.keys():\n",
    "    for device in times[api].keys():\n",
    "        ax2.plot(qubits, times[api][device][2],\n",
    "                    linestyle='solid', \n",
    "                    label = f'{api}:{device}',\n",
    "                    marker = 'o',\n",
    "                   )\n",
    "\n",
    "ax1.legend()\n",
    "ax1.set_ylabel('Time per shot [s]')\n",
    "ax1.set_xlabel('Number of qubits')\n",
    "ax1.set_yscale('log')\n",
    "ax2.set_ylabel('Total Time [s]')\n",
    "ax2.set_xlabel('Number of qubits')\n",
    "ax2.set_yscale('log')\n",
    "\n",
    "fig"
   ]
  },
  {
   "cell_type": "markdown",
   "id": "4b6f9231-9338-40dc-b810-f03ec9e1c0d1",
   "metadata": {},
   "source": [
    "### GraceHopper Scaling Results \n",
    "\n",
    "A comparative analysis of *PennyLane*, *Qiskit*, and *CUDA-Q* in full state-vector simulations of Grover’s search with ideal qubits highlights how different frameworks impose practical constraints on quantum algorithm exploration. *PennyLane*, while offering a versatile set of features, can suffer from inefficient GPU resource utilization, leading to performance bottlenecks in large-scale simulations. *Qiskit*, on the other hand, encounters challenges related to unified memory access on the GH200 platform, introducing significant overhead costs that can limit scalability. In contrast, *CUDA-Q* , though more specialized and with fewer high-level capabilities, demonstrates superior efficiency in executing specific quantum algorithms. Its ability to leverage optimized memory management and GPU acceleration enables the simulation of larger qubit systems on a single node, making it particularly advantageous for high-performance quantum computing workloads.\n",
    "\n",
    "![4 Scaling](figures/grovers_scaling_example.png \"4 Scaling of Grovers Circuit\")\n"
   ]
  },
  {
   "cell_type": "code",
   "execution_count": null,
   "id": "39ef4f5b-9885-4a7e-9a6d-ed3b188e3d05",
   "metadata": {},
   "outputs": [],
   "source": []
  }
 ],
 "metadata": {
  "kernelspec": {
   "display_name": "Python 3 (ipykernel)",
   "language": "python",
   "name": "python3"
  },
  "language_info": {
   "codemirror_mode": {
    "name": "ipython",
    "version": 3
   },
   "file_extension": ".py",
   "mimetype": "text/x-python",
   "name": "python",
   "nbconvert_exporter": "python",
   "pygments_lexer": "ipython3",
   "version": "3.9.4"
  }
 },
 "nbformat": 4,
 "nbformat_minor": 5
}
